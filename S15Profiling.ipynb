{
  "nbformat": 4,
  "nbformat_minor": 0,
  "metadata": {
    "colab": {
      "name": "S15Profiling.ipynb",
      "provenance": [],
      "collapsed_sections": [],
      "authorship_tag": "ABX9TyM7eLr4z6lNEQe17g9TIy10",
      "include_colab_link": true
    },
    "kernelspec": {
      "name": "python3",
      "display_name": "Python 3"
    }
  },
  "cells": [
    {
      "cell_type": "markdown",
      "metadata": {
        "id": "view-in-github",
        "colab_type": "text"
      },
      "source": [
        "<a href=\"https://colab.research.google.com/github/rajy4683/S15Test/blob/master/S15Profiling.ipynb\" target=\"_parent\"><img src=\"https://colab.research.google.com/assets/colab-badge.svg\" alt=\"Open In Colab\"/></a>"
      ]
    },
    {
      "cell_type": "code",
      "metadata": {
        "id": "hlfpQ5iFBsAu",
        "colab_type": "code",
        "outputId": "8d7c7f7e-9a17-4f2d-e03a-1a767dcb3899",
        "colab": {
          "base_uri": "https://localhost:8080/",
          "height": 235
        }
      },
      "source": [
        "%%time\n",
        "'''\n",
        "Time Taken to unzip 100K elements in parallel from GDrive to Colab's local drive\n",
        "'''\n",
        "csv_file ='/content/drive/My Drive/EVA4/tsai/S15EVA4/FinalDataSet/DepthMapDataSetTrain.csv'\n",
        "root_dir = '/content/drive/My Drive/EVA4/tsai/S15EVA4/'\n",
        "batch_start = 0\n",
        "batch_end = batch_start+100000\n",
        "dest_dir=\"/content/train\"\n",
        "\n",
        "mmddataloader.extract_data_files_mt(csv_file, root_dir, batch_start,batch_end, dest_dir=dest_dir)\n"
      ],
      "execution_count": 0,
      "outputs": [
        {
          "output_type": "stream",
          "text": [
            "Extracting image and mask files Total:9\n",
            "Zip Name:image_mask_gt1k2k.zip Total Files:33518\n",
            "Zip Name:depth_mask_gt_1k2k.zip Total Files:16759\n",
            "Zip Name:image_mask_gt6k8k.zip Total Files:33154\n",
            "Zip Name:image_mask_gt8k12k.zip Total Files:67132\n",
            "Zip Name:image_mask_gt2k6k.zip Total Files:66198\n",
            "Zip Name:depth_mask_gt_2k6k.zip Total Files:33099\n",
            "Zip Name:depth_mask_gt_6k8k.zip Total Files:16577\n",
            "Zip Name:depth_mask_gt_8k12k.zip Total Files:33566\n",
            "Extracting bg files\n",
            "Total file count:300113 \n",
            "CPU times: user 7.69 s, sys: 962 ms, total: 8.65 s\n",
            "Wall time: 26min 38s\n"
          ],
          "name": "stdout"
        }
      ]
    },
    {
      "cell_type": "code",
      "metadata": {
        "id": "qn-DyuZHB7U2",
        "colab_type": "code",
        "outputId": "f619f7dd-7c9a-48af-a515-cddbe753f5b4",
        "colab": {
          "base_uri": "https://localhost:8080/",
          "height": 50
        }
      },
      "source": [
        "%%time \n",
        "'''\n",
        "Time taken for DataSet object creation\n",
        "'''\n",
        "size_hw = (224,224)\n",
        "dest_dir=\"/content/train\"\n",
        "train_batch_size = 128\n",
        "depth_dataset = mmddataloader.DepthMaskDataSet(csv_file, dest_dir, batch_start,batch_end, read_zip=False,\n",
        "                                 transform_base=mmddataloader.resize_bg(size_hw[0],size_hw[1],[0.56632738, 0.51567622, 0.45670792], [0.1076622, 0.10650349, 0.12808967] ),\n",
        "                                 transform_bg=mmddataloader.resize_bg(size_hw[0],size_hw[1],[0.57469445, 0.52241555, 0.45992244], [0.11322354, 0.11195428, 0.13441683]),\n",
        "                                 transform_mask = mmddataloader.resize_bg_nonNorm(size_hw[0],size_hw[1]),\n",
        "                                 transform_depth = mmddataloader.resize_bg_nonNorm(size_hw[0],size_hw[1]),\n",
        "                                 #transform_mask=mmddataloader.resize_bg(size_hw[0],size_hw[1], [0.0579508], [0.001662]),\n",
        "                                 #transform_depth=mmddataloader.resize_bg(size_hw[0],size_hw[1], [0.3679109], [0.03551773]),\n",
        "                                 )\n",
        "from torch.utils.data import DataLoader\n",
        "kwargs= { 'num_workers':8,'pin_memory': True}\n",
        "train_loader = DataLoader(depth_dataset, batch_size=train_batch_size, shuffle=False, **kwargs)"
      ],
      "execution_count": 0,
      "outputs": [
        {
          "output_type": "stream",
          "text": [
            "CPU times: user 856 ms, sys: 106 ms, total: 962 ms\n",
            "Wall time: 2.06 s\n"
          ],
          "name": "stdout"
        }
      ]
    },
    {
      "cell_type": "markdown",
      "metadata": {
        "id": "9l03x4xq524E",
        "colab_type": "text"
      },
      "source": [
        "## Dataloader Profiling"
      ]
    },
    {
      "cell_type": "code",
      "metadata": {
        "id": "YXehbi354Vyc",
        "colab_type": "code",
        "colab": {}
      },
      "source": [
        "def profile_dataloader(data_loader, sample_count=500000):\n",
        "    pbar = tqdm(data_loader)\n",
        "    for batch_idx, dataset in enumerate(pbar):\n",
        "        data_len = len(dataset['input'])\n",
        "        if(batch_idx > sample_count):\n",
        "            break"
      ],
      "execution_count": 0,
      "outputs": []
    }
  ]
}